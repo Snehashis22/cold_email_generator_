{
 "cells": [
  {
   "cell_type": "code",
   "execution_count": 3,
   "id": "3a160f80-e2a4-46f9-86d2-5b6b1e7608fb",
   "metadata": {},
   "outputs": [],
   "source": [
    "from langchain_groq import ChatGroq"
   ]
  },
  {
   "cell_type": "code",
   "execution_count": 4,
   "id": "26134d59-bffe-41b5-b385-a76d70c8590a",
   "metadata": {},
   "outputs": [
    {
     "name": "stdout",
     "output_type": "stream",
     "text": [
      "The first person to land on the moon was Neil Armstrong. He stepped out of the lunar module Eagle and onto the moon's surface on July 20, 1969, during the Apollo 11 mission. Armstrong famously declared, \"That's one small step for man, one giant leap for mankind,\" as he became the first human to set foot on the moon.\n"
     ]
    }
   ],
   "source": [
    "llm = ChatGroq(\n",
    "    model=\"llama-3.1-70b-versatile\",\n",
    "    temperature=0,\n",
    "    groq_api_key=\"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\"\n",
    ")\n",
    "response=llm.invoke(\"The first person to land on moon\")\n",
    "print(response.content)"
   ]
  },
  {
   "cell_type": "code",
   "execution_count": 5,
   "id": "0165d502-af7c-47f6-99e9-7c82cbf442c3",
   "metadata": {},
   "outputs": [
    {
     "name": "stdout",
     "output_type": "stream",
     "text": [
      "Requirement already satisfied: langchain_community in c:\\users\\dell\\desktop\\genai\\cold_email_generator\\env\\lib\\site-packages (0.3.3)Note: you may need to restart the kernel to use updated packages.\n",
      "\n",
      "Requirement already satisfied: beautifulsoup4 in c:\\users\\dell\\desktop\\genai\\cold_email_generator\\env\\lib\\site-packages (4.12.3)\n",
      "Requirement already satisfied: PyYAML>=5.3 in c:\\users\\dell\\desktop\\genai\\cold_email_generator\\env\\lib\\site-packages (from langchain_community) (6.0.2)\n",
      "Requirement already satisfied: SQLAlchemy<3,>=1.4 in c:\\users\\dell\\desktop\\genai\\cold_email_generator\\env\\lib\\site-packages (from langchain_community) (2.0.36)\n",
      "Requirement already satisfied: aiohttp<4.0.0,>=3.8.3 in c:\\users\\dell\\desktop\\genai\\cold_email_generator\\env\\lib\\site-packages (from langchain_community) (3.10.10)\n",
      "Requirement already satisfied: dataclasses-json<0.7,>=0.5.7 in c:\\users\\dell\\desktop\\genai\\cold_email_generator\\env\\lib\\site-packages (from langchain_community) (0.6.7)\n",
      "Requirement already satisfied: langchain<0.4.0,>=0.3.4 in c:\\users\\dell\\desktop\\genai\\cold_email_generator\\env\\lib\\site-packages (from langchain_community) (0.3.4)\n",
      "Requirement already satisfied: langchain-core<0.4.0,>=0.3.12 in c:\\users\\dell\\desktop\\genai\\cold_email_generator\\env\\lib\\site-packages (from langchain_community) (0.3.12)\n",
      "Requirement already satisfied: langsmith<0.2.0,>=0.1.125 in c:\\users\\dell\\desktop\\genai\\cold_email_generator\\env\\lib\\site-packages (from langchain_community) (0.1.136)\n",
      "Requirement already satisfied: numpy<2.0.0,>=1.26.0 in c:\\users\\dell\\desktop\\genai\\cold_email_generator\\env\\lib\\site-packages (from langchain_community) (1.26.4)\n",
      "Requirement already satisfied: pydantic-settings<3.0.0,>=2.4.0 in c:\\users\\dell\\desktop\\genai\\cold_email_generator\\env\\lib\\site-packages (from langchain_community) (2.6.0)\n",
      "Requirement already satisfied: requests<3,>=2 in c:\\users\\dell\\desktop\\genai\\cold_email_generator\\env\\lib\\site-packages (from langchain_community) (2.32.3)\n",
      "Requirement already satisfied: tenacity!=8.4.0,<10,>=8.1.0 in c:\\users\\dell\\desktop\\genai\\cold_email_generator\\env\\lib\\site-packages (from langchain_community) (9.0.0)\n",
      "Requirement already satisfied: soupsieve>1.2 in c:\\users\\dell\\desktop\\genai\\cold_email_generator\\env\\lib\\site-packages (from beautifulsoup4) (2.5)\n",
      "Requirement already satisfied: aiohappyeyeballs>=2.3.0 in c:\\users\\dell\\desktop\\genai\\cold_email_generator\\env\\lib\\site-packages (from aiohttp<4.0.0,>=3.8.3->langchain_community) (2.4.3)\n",
      "Requirement already satisfied: aiosignal>=1.1.2 in c:\\users\\dell\\desktop\\genai\\cold_email_generator\\env\\lib\\site-packages (from aiohttp<4.0.0,>=3.8.3->langchain_community) (1.3.1)\n",
      "Requirement already satisfied: attrs>=17.3.0 in c:\\users\\dell\\desktop\\genai\\cold_email_generator\\env\\lib\\site-packages (from aiohttp<4.0.0,>=3.8.3->langchain_community) (24.2.0)\n",
      "Requirement already satisfied: frozenlist>=1.1.1 in c:\\users\\dell\\desktop\\genai\\cold_email_generator\\env\\lib\\site-packages (from aiohttp<4.0.0,>=3.8.3->langchain_community) (1.4.1)\n",
      "Requirement already satisfied: multidict<7.0,>=4.5 in c:\\users\\dell\\desktop\\genai\\cold_email_generator\\env\\lib\\site-packages (from aiohttp<4.0.0,>=3.8.3->langchain_community) (6.1.0)\n",
      "Requirement already satisfied: yarl<2.0,>=1.12.0 in c:\\users\\dell\\desktop\\genai\\cold_email_generator\\env\\lib\\site-packages (from aiohttp<4.0.0,>=3.8.3->langchain_community) (1.15.5)\n",
      "Requirement already satisfied: marshmallow<4.0.0,>=3.18.0 in c:\\users\\dell\\desktop\\genai\\cold_email_generator\\env\\lib\\site-packages (from dataclasses-json<0.7,>=0.5.7->langchain_community) (3.23.0)\n",
      "Requirement already satisfied: typing-inspect<1,>=0.4.0 in c:\\users\\dell\\desktop\\genai\\cold_email_generator\\env\\lib\\site-packages (from dataclasses-json<0.7,>=0.5.7->langchain_community) (0.9.0)\n",
      "Requirement already satisfied: langchain-text-splitters<0.4.0,>=0.3.0 in c:\\users\\dell\\desktop\\genai\\cold_email_generator\\env\\lib\\site-packages (from langchain<0.4.0,>=0.3.4->langchain_community) (0.3.0)\n",
      "Requirement already satisfied: pydantic<3.0.0,>=2.7.4 in c:\\users\\dell\\desktop\\genai\\cold_email_generator\\env\\lib\\site-packages (from langchain<0.4.0,>=0.3.4->langchain_community) (2.9.2)\n",
      "Requirement already satisfied: jsonpatch<2.0,>=1.33 in c:\\users\\dell\\desktop\\genai\\cold_email_generator\\env\\lib\\site-packages (from langchain-core<0.4.0,>=0.3.12->langchain_community) (1.33)\n",
      "Requirement already satisfied: packaging<25,>=23.2 in c:\\users\\dell\\desktop\\genai\\cold_email_generator\\env\\lib\\site-packages (from langchain-core<0.4.0,>=0.3.12->langchain_community) (24.1)\n",
      "Requirement already satisfied: typing-extensions>=4.7 in c:\\users\\dell\\desktop\\genai\\cold_email_generator\\env\\lib\\site-packages (from langchain-core<0.4.0,>=0.3.12->langchain_community) (4.11.0)\n",
      "Requirement already satisfied: httpx<1,>=0.23.0 in c:\\users\\dell\\desktop\\genai\\cold_email_generator\\env\\lib\\site-packages (from langsmith<0.2.0,>=0.1.125->langchain_community) (0.27.0)\n",
      "Requirement already satisfied: orjson<4.0.0,>=3.9.14 in c:\\users\\dell\\desktop\\genai\\cold_email_generator\\env\\lib\\site-packages (from langsmith<0.2.0,>=0.1.125->langchain_community) (3.10.7)\n",
      "Requirement already satisfied: requests-toolbelt<2.0.0,>=1.0.0 in c:\\users\\dell\\desktop\\genai\\cold_email_generator\\env\\lib\\site-packages (from langsmith<0.2.0,>=0.1.125->langchain_community) (1.0.0)\n",
      "Requirement already satisfied: python-dotenv>=0.21.0 in c:\\users\\dell\\desktop\\genai\\cold_email_generator\\env\\lib\\site-packages (from pydantic-settings<3.0.0,>=2.4.0->langchain_community) (1.0.1)\n",
      "Requirement already satisfied: charset-normalizer<4,>=2 in c:\\users\\dell\\desktop\\genai\\cold_email_generator\\env\\lib\\site-packages (from requests<3,>=2->langchain_community) (3.3.2)\n",
      "Requirement already satisfied: idna<4,>=2.5 in c:\\users\\dell\\desktop\\genai\\cold_email_generator\\env\\lib\\site-packages (from requests<3,>=2->langchain_community) (3.7)\n",
      "Requirement already satisfied: urllib3<3,>=1.21.1 in c:\\users\\dell\\desktop\\genai\\cold_email_generator\\env\\lib\\site-packages (from requests<3,>=2->langchain_community) (2.2.3)\n",
      "Requirement already satisfied: certifi>=2017.4.17 in c:\\users\\dell\\desktop\\genai\\cold_email_generator\\env\\lib\\site-packages (from requests<3,>=2->langchain_community) (2024.8.30)\n",
      "Requirement already satisfied: greenlet!=0.4.17 in c:\\users\\dell\\desktop\\genai\\cold_email_generator\\env\\lib\\site-packages (from SQLAlchemy<3,>=1.4->langchain_community) (3.1.1)\n",
      "Requirement already satisfied: anyio in c:\\users\\dell\\desktop\\genai\\cold_email_generator\\env\\lib\\site-packages (from httpx<1,>=0.23.0->langsmith<0.2.0,>=0.1.125->langchain_community) (4.6.2)\n",
      "Requirement already satisfied: httpcore==1.* in c:\\users\\dell\\desktop\\genai\\cold_email_generator\\env\\lib\\site-packages (from httpx<1,>=0.23.0->langsmith<0.2.0,>=0.1.125->langchain_community) (1.0.2)\n",
      "Requirement already satisfied: sniffio in c:\\users\\dell\\desktop\\genai\\cold_email_generator\\env\\lib\\site-packages (from httpx<1,>=0.23.0->langsmith<0.2.0,>=0.1.125->langchain_community) (1.3.0)\n",
      "Requirement already satisfied: h11<0.15,>=0.13 in c:\\users\\dell\\desktop\\genai\\cold_email_generator\\env\\lib\\site-packages (from httpcore==1.*->httpx<1,>=0.23.0->langsmith<0.2.0,>=0.1.125->langchain_community) (0.14.0)\n",
      "Requirement already satisfied: jsonpointer>=1.9 in c:\\users\\dell\\desktop\\genai\\cold_email_generator\\env\\lib\\site-packages (from jsonpatch<2.0,>=1.33->langchain-core<0.4.0,>=0.3.12->langchain_community) (3.0.0)\n",
      "Requirement already satisfied: annotated-types>=0.6.0 in c:\\users\\dell\\desktop\\genai\\cold_email_generator\\env\\lib\\site-packages (from pydantic<3.0.0,>=2.7.4->langchain<0.4.0,>=0.3.4->langchain_community) (0.7.0)\n",
      "Requirement already satisfied: pydantic-core==2.23.4 in c:\\users\\dell\\desktop\\genai\\cold_email_generator\\env\\lib\\site-packages (from pydantic<3.0.0,>=2.7.4->langchain<0.4.0,>=0.3.4->langchain_community) (2.23.4)\n",
      "Requirement already satisfied: mypy-extensions>=0.3.0 in c:\\users\\dell\\desktop\\genai\\cold_email_generator\\env\\lib\\site-packages (from typing-inspect<1,>=0.4.0->dataclasses-json<0.7,>=0.5.7->langchain_community) (1.0.0)\n",
      "Requirement already satisfied: propcache>=0.2.0 in c:\\users\\dell\\desktop\\genai\\cold_email_generator\\env\\lib\\site-packages (from yarl<2.0,>=1.12.0->aiohttp<4.0.0,>=3.8.3->langchain_community) (0.2.0)\n"
     ]
    }
   ],
   "source": [
    "pip install  langchain_community beautifulsoup4"
   ]
  },
  {
   "cell_type": "code",
   "execution_count": 6,
   "id": "5db6ad80-f99f-4871-af24-f22a5a61438f",
   "metadata": {},
   "outputs": [
    {
     "name": "stderr",
     "output_type": "stream",
     "text": [
      "USER_AGENT environment variable not set, consider setting it to identify your requests.\n"
     ]
    },
    {
     "name": "stdout",
     "output_type": "stream",
     "text": [
      "Apply for Retail Supervisor - Simpsonville, KY\n",
      "\n",
      "Search JobsSkip navigationSearch JobsNIKE, INC. JOBSContract JobsJoin The Talent CommunityLife @ NikeOverviewBenefitsBrandsOverviewJordanConverseTeamsOverviewAdministrative SupportAdvanced InnovationAir Manufacturing InnovationAviationCommunicationsCustomer ServiceDesignDigitalFacilitiesFinance & AccountingGovernment & Public AffairsHuman ResourcesInsights & AnalyticsLegalManufacturing & EngineeringMarketingMerchandisingPlanningPrivacyProcurementProduct Creation, Development & ManagementRetail CorporateRetail StoresSalesSocial & Community ImpactSports MarketingStrategic PlanningSupply Chain, Distribution & LogisticsSustainabilityTechnologyLocationsOverviewNike WHQNike New York HQEHQ: Hilversum, The NetherlandsELC: Laakdal, BelgiumGreater China HQDiversity, Equity & InclusionOverviewMilitary InclusionDisability InclusionIndigenous InclusionInternshipsRetail StoresRetail Supervisor - Simpsonville, KYSimpsonville, KentuckyBecome a Part of the NIKE, Inc. TeamNIKE, Inc. does more than outfit the world’s best athletes. It is a place to explore potential, obliterate boundaries and push out the edges of what can be. The company looks for people who can grow, think, dream and create. Its culture thrives by embracing diversity and rewarding imagination. The brand seeks achievers, leaders and visionaries. At NIKE, Inc. it’s about each person bringing skills and passion to a challenging and constantly evolving game.To work in retail is to be the face of NIKE, Inc. With a relentless focus on product knowledge and customer service, Nike Retail teams give valuable experiences to consumers every day. From Shanghai to San Francisco, every store has a unique perspective and hosts an inspiring community of sport and style devotees. A career in Nike Retail demands creativity and ambition and offers the opportunity to grow with some of the best athletes, teammates and retail partners in the industry.The future of Nike has never looked better.Our purpose is to unite the world through sport to create a healthy planet, active communities, and an equal playing field for all.In order to stay at the top of our game, we’re always looking to level-up with outstanding people who provide the kind of above-and-beyond service that inspires Nike fans for life!As a member of Nike Retail, you'll be part of a diverse & inclusive team with opportunities for personal growth and professional development, all in a casual work environment where you can be your authentic self. And, with a generous employee discount and an overall benefits package that’s among the best around, we’re pretty confident you’re gonna love it here!Are you looking for a place to start your leadership journey? The Nike Specialist role offers the opportunities you need to grow with personalized coaching to elevate your game.The mission of a Nike store Specialist is clear: deliver a premium in-store experience to our consumers. Along with balancing an associate's responsibilities, you're able to expertly handle complex situations with autonomy and poise.In addition to shared leadership responsibilities, you will focus on one of five Areas of Expertise where you'll gain critical experiences that help propel you along your development journey.Selling and Service: The center of all we do. Ensures a flawless consumer journey by providing encouragement, connection and product knowledge.Team and Culture: Prioritizes teammates through hiring, developing, and retaining critical talent.Operational Excellence: Fosters and maintains a safe, organized, and efficient workplace.Visual Merchandising: Focuses on intentional storytelling while obsessing sport and style.Digital: Enhances and grows the connection from online and offline services with in-store tools.No matter the location or position, every Nike employee shares one unifying mission: To bring inspiration and innovation to every athlete** in the world.**If you have a body, you're an athleteQualifications What You Bring to Nike...1 year of retail and/or consumer service experienceFlexibility and willingness to work a combination of mornings, evenings, weekends, and holidays based on the needs of the businessPassion for engaging with consumers and encouraging them to become Nike MembersDigital literacy—desire to learn and adapt to technology needs with agilityAbility to communicate in EnglishPhysical requirements include the ability to twist, bend, squat, reach, climb a ladder, and stand for extended periods of time with or without reasonable accommodationMust be at least 18 years of ageHigh school diploma or GED preferredNIKE, Inc. is a growth company that looks for team members to grow with it. Nike offers a generous total rewards package, casual work environment, a diverse and inclusive culture, and an electric atmosphere for professional development. No matter the location, or the role, every Nike employee shares one galvanizing mission: To bring inspiration and innovation to every athlete* in the world.NIKE, Inc. is committed to employing a diverse workforce. Qualified applicants will receive consideration without regard to race, color, religion, sex, national origin, age, sexual orientation, gender identity, gender expression, veteran status, or disability.How We HireAt NIKE, Inc. we promise to provide a premium, inclusive, compelling and authentic candidate experience. Delivering on this promise means we allow you to be at your best — and to do that, you need to understand how the hiring process works. Transparency is key.\n",
      "\n",
      "* This overview explains our hiring process for corporate roles. Note there may be different hiring steps involved for non-corporate roles.Start nowBenefitsWhether it’s transportation or financial health, we continually invest in our employees to help them achieve greatness — inside and outside of work. All who work here should be able to realize their full potential.Employee Assistance ProgramHolidaysMedical PlanPaid Time Off (PTO)Product DiscountsLearn moreFIND A STOREBECOME A MEMBERSIGN UP FOR EMAILSEND US FEEDBACKSTUDENT DISCOUNTSGET HELPGET HELPOrder StatusDeliveryReturnsPayment OptionsContact Us On Nike.com InquiriesContact Us On All Other InquiriesABOUT NIKEABOUT NIKENewsCareersInvestorsSustainabilityIndia© 2024 Nike, Inc. All Rights ReservedGuidesNike AdaptNike Air MaxNike FlyleatherNike PegasusNike Zoom FlyNike AirNike FlyEaseNike FreeNike ReactNike ZoomXNike Air Force 1Nike FlyknitNike JoyrideNike VaporflyTerms of SaleTerms of UseNike Privacy Policy\n"
     ]
    }
   ],
   "source": [
    "from langchain_community.document_loaders import WebBaseLoader\n",
    "\n",
    "loader = WebBaseLoader(\"https://jobs.nike.com/job/R-36731\")\n",
    "page_data=loader.load().pop().page_content\n",
    "print(page_data)"
   ]
  },
  {
   "cell_type": "code",
   "execution_count": 7,
   "id": "d227c9dc-346d-4039-a4f0-34677a6665ac",
   "metadata": {},
   "outputs": [
    {
     "name": "stdout",
     "output_type": "stream",
     "text": [
      "```json\n",
      "{\n",
      "  \"role\": \"Retail Supervisor\",\n",
      "  \"experience\": \"1 year of retail and/or consumer service experience\",\n",
      "  \"skill\": [\n",
      "    \"Passion for engaging with consumers and encouraging them to become Nike Members\",\n",
      "    \"Digital literacy—desire to learn and adapt to technology needs with agility\",\n",
      "    \"Ability to communicate in English\",\n",
      "    \"Physical requirements include the ability to twist, bend, squat, reach, climb a ladder, and stand for extended periods of time with or without reasonable accommodation\"\n",
      "  ],\n",
      "  \"description\": \"The mission of a Nike store Specialist is clear: deliver a premium in-store experience to our consumers. Along with balancing an associate's responsibilities, you're able to expertly handle complex situations with autonomy and poise. In addition to shared leadership responsibilities, you will focus on one of five Areas of Expertise where you'll gain critical experiences that help propel you along your development journey.\"\n",
      "}\n",
      "```\n"
     ]
    }
   ],
   "source": [
    "from langchain_core.prompts import PromptTemplate\n",
    "prompt_extract=PromptTemplate.from_template(\n",
    "    \"\"\"\n",
    "    ### SCRAPED TEXT FROM WEBSITE:\n",
    "    {page_data}\n",
    "    ###INSTRUCTION:\n",
    "    The scraped text is from the career's page of some company's website.\n",
    "    Your job is to extract the job postings and return them in JSON format containing the following keys:'role','experience','skill' and 'description'.\n",
    "    Only return the valid JSON\n",
    "    ### VALID JSON (NO PREAMBLE SPECIFICALLY):\n",
    "    \"\"\"\n",
    ")\n",
    "# create a pipe with the llm object that have our api \n",
    "chain_extract=prompt_extract|llm\n",
    "res=chain_extract.invoke(input={'page_data':page_data}) #page data we created in the webbaseloader\n",
    "print(res.content)"
   ]
  },
  {
   "cell_type": "code",
   "execution_count": 8,
   "id": "2e3a9315-5dc7-46db-97d1-ea3a3089a667",
   "metadata": {},
   "outputs": [
    {
     "data": {
      "text/plain": [
       "str"
      ]
     },
     "execution_count": 8,
     "metadata": {},
     "output_type": "execute_result"
    }
   ],
   "source": [
    "type(res.content)"
   ]
  },
  {
   "cell_type": "code",
   "execution_count": 9,
   "id": "73ba4cb9-fafe-434e-a942-983f9ccee9d8",
   "metadata": {},
   "outputs": [
    {
     "data": {
      "text/plain": [
       "{'role': 'Retail Supervisor',\n",
       " 'experience': '1 year of retail and/or consumer service experience',\n",
       " 'skill': ['Passion for engaging with consumers and encouraging them to become Nike Members',\n",
       "  'Digital literacy—desire to learn and adapt to technology needs with agility',\n",
       "  'Ability to communicate in English',\n",
       "  'Physical requirements include the ability to twist, bend, squat, reach, climb a ladder, and stand for extended periods of time with or without reasonable accommodation'],\n",
       " 'description': \"The mission of a Nike store Specialist is clear: deliver a premium in-store experience to our consumers. Along with balancing an associate's responsibilities, you're able to expertly handle complex situations with autonomy and poise. In addition to shared leadership responsibilities, you will focus on one of five Areas of Expertise where you'll gain critical experiences that help propel you along your development journey.\"}"
      ]
     },
     "execution_count": 9,
     "metadata": {},
     "output_type": "execute_result"
    }
   ],
   "source": [
    "from langchain_core.output_parsers import JsonOutputParser\n",
    "json_parser=JsonOutputParser()\n",
    "json_res=json_parser.parse(res.content)\n",
    "json_res"
   ]
  },
  {
   "cell_type": "code",
   "execution_count": 10,
   "id": "6c4989a9-80bd-4927-9d78-e4543e38ac25",
   "metadata": {},
   "outputs": [
    {
     "data": {
      "text/plain": [
       "dict"
      ]
     },
     "execution_count": 10,
     "metadata": {},
     "output_type": "execute_result"
    }
   ],
   "source": [
    "type(json_res)"
   ]
  },
  {
   "cell_type": "code",
   "execution_count": 11,
   "id": "2c1aa4af-71ee-475f-9cf4-c197e71792eb",
   "metadata": {},
   "outputs": [
    {
     "name": "stdout",
     "output_type": "stream",
     "text": [
      "Requirement already satisfied: pandas in c:\\users\\dell\\desktop\\genai\\cold_email_generator\\env\\lib\\site-packages (2.2.3)Note: you may need to restart the kernel to use updated packages.\n",
      "\n",
      "Requirement already satisfied: numpy>=1.26.0 in c:\\users\\dell\\desktop\\genai\\cold_email_generator\\env\\lib\\site-packages (from pandas) (1.26.4)\n",
      "Requirement already satisfied: python-dateutil>=2.8.2 in c:\\users\\dell\\desktop\\genai\\cold_email_generator\\env\\lib\\site-packages (from pandas) (2.9.0.post0)\n",
      "Requirement already satisfied: pytz>=2020.1 in c:\\users\\dell\\desktop\\genai\\cold_email_generator\\env\\lib\\site-packages (from pandas) (2024.1)\n",
      "Requirement already satisfied: tzdata>=2022.7 in c:\\users\\dell\\desktop\\genai\\cold_email_generator\\env\\lib\\site-packages (from pandas) (2024.2)\n",
      "Requirement already satisfied: six>=1.5 in c:\\users\\dell\\desktop\\genai\\cold_email_generator\\env\\lib\\site-packages (from python-dateutil>=2.8.2->pandas) (1.16.0)\n"
     ]
    }
   ],
   "source": [
    "pip install pandas"
   ]
  },
  {
   "cell_type": "code",
   "execution_count": 12,
   "id": "b24b1434-b573-44da-851f-82ceb1ba0720",
   "metadata": {},
   "outputs": [],
   "source": [
    "import pandas as pd\n",
    "df=pd.read_csv(\"my_portfolio.csv\")"
   ]
  },
  {
   "cell_type": "code",
   "execution_count": 13,
   "id": "aac73d9f-ce5c-4308-bab3-f7cb23b5dcf0",
   "metadata": {},
   "outputs": [
    {
     "data": {
      "text/html": [
       "<div>\n",
       "<style scoped>\n",
       "    .dataframe tbody tr th:only-of-type {\n",
       "        vertical-align: middle;\n",
       "    }\n",
       "\n",
       "    .dataframe tbody tr th {\n",
       "        vertical-align: top;\n",
       "    }\n",
       "\n",
       "    .dataframe thead th {\n",
       "        text-align: right;\n",
       "    }\n",
       "</style>\n",
       "<table border=\"1\" class=\"dataframe\">\n",
       "  <thead>\n",
       "    <tr style=\"text-align: right;\">\n",
       "      <th></th>\n",
       "      <th>Techstack</th>\n",
       "      <th>Links</th>\n",
       "    </tr>\n",
       "  </thead>\n",
       "  <tbody>\n",
       "    <tr>\n",
       "      <th>0</th>\n",
       "      <td>React, Node.js, MongoDB</td>\n",
       "      <td>https://example.com/react-portfolio</td>\n",
       "    </tr>\n",
       "    <tr>\n",
       "      <th>1</th>\n",
       "      <td>Angular,.NET, SQL Server</td>\n",
       "      <td>https://example.com/angular-portfolio</td>\n",
       "    </tr>\n",
       "    <tr>\n",
       "      <th>2</th>\n",
       "      <td>Vue.js, Ruby on Rails, PostgreSQL</td>\n",
       "      <td>https://example.com/vue-portfolio</td>\n",
       "    </tr>\n",
       "    <tr>\n",
       "      <th>3</th>\n",
       "      <td>Python, Django, MySQL</td>\n",
       "      <td>https://example.com/python-portfolio</td>\n",
       "    </tr>\n",
       "    <tr>\n",
       "      <th>4</th>\n",
       "      <td>Java, Spring Boot, Oracle</td>\n",
       "      <td>https://example.com/java-portfolio</td>\n",
       "    </tr>\n",
       "    <tr>\n",
       "      <th>5</th>\n",
       "      <td>Flutter, Firebase, GraphQL</td>\n",
       "      <td>https://example.com/flutter-portfolio</td>\n",
       "    </tr>\n",
       "    <tr>\n",
       "      <th>6</th>\n",
       "      <td>WordPress, PHP, MySQL</td>\n",
       "      <td>https://example.com/wordpress-portfolio</td>\n",
       "    </tr>\n",
       "    <tr>\n",
       "      <th>7</th>\n",
       "      <td>Magento, PHP, MySQL</td>\n",
       "      <td>https://example.com/magento-portfolio</td>\n",
       "    </tr>\n",
       "    <tr>\n",
       "      <th>8</th>\n",
       "      <td>React Native, Node.js, MongoDB</td>\n",
       "      <td>https://example.com/react-native-portfolio</td>\n",
       "    </tr>\n",
       "    <tr>\n",
       "      <th>9</th>\n",
       "      <td>iOS, Swift, Core Data</td>\n",
       "      <td>https://example.com/ios-portfolio</td>\n",
       "    </tr>\n",
       "    <tr>\n",
       "      <th>10</th>\n",
       "      <td>Android, Java, Room Persistence</td>\n",
       "      <td>https://example.com/android-portfolio</td>\n",
       "    </tr>\n",
       "    <tr>\n",
       "      <th>11</th>\n",
       "      <td>Kotlin, Android, Firebase</td>\n",
       "      <td>https://example.com/kotlin-android-portfolio</td>\n",
       "    </tr>\n",
       "    <tr>\n",
       "      <th>12</th>\n",
       "      <td>Android TV, Kotlin, Android NDK</td>\n",
       "      <td>https://example.com/android-tv-portfolio</td>\n",
       "    </tr>\n",
       "    <tr>\n",
       "      <th>13</th>\n",
       "      <td>iOS, Swift, ARKit</td>\n",
       "      <td>https://example.com/ios-ar-portfolio</td>\n",
       "    </tr>\n",
       "    <tr>\n",
       "      <th>14</th>\n",
       "      <td>Cross-platform, Xamarin, Azure</td>\n",
       "      <td>https://example.com/xamarin-portfolio</td>\n",
       "    </tr>\n",
       "    <tr>\n",
       "      <th>15</th>\n",
       "      <td>Backend, Kotlin, Spring Boot</td>\n",
       "      <td>https://example.com/kotlin-backend-portfolio</td>\n",
       "    </tr>\n",
       "    <tr>\n",
       "      <th>16</th>\n",
       "      <td>Frontend, TypeScript, Angular</td>\n",
       "      <td>https://example.com/typescript-frontend-portfolio</td>\n",
       "    </tr>\n",
       "    <tr>\n",
       "      <th>17</th>\n",
       "      <td>Full-stack, JavaScript, Express.js</td>\n",
       "      <td>https://example.com/full-stack-js-portfolio</td>\n",
       "    </tr>\n",
       "    <tr>\n",
       "      <th>18</th>\n",
       "      <td>Machine Learning, Python, TensorFlow</td>\n",
       "      <td>https://example.com/ml-python-portfolio</td>\n",
       "    </tr>\n",
       "    <tr>\n",
       "      <th>19</th>\n",
       "      <td>DevOps, Jenkins, Docker</td>\n",
       "      <td>https://example.com/devops-portfolio</td>\n",
       "    </tr>\n",
       "  </tbody>\n",
       "</table>\n",
       "</div>"
      ],
      "text/plain": [
       "                               Techstack  \\\n",
       "0                React, Node.js, MongoDB   \n",
       "1               Angular,.NET, SQL Server   \n",
       "2      Vue.js, Ruby on Rails, PostgreSQL   \n",
       "3                  Python, Django, MySQL   \n",
       "4              Java, Spring Boot, Oracle   \n",
       "5             Flutter, Firebase, GraphQL   \n",
       "6                  WordPress, PHP, MySQL   \n",
       "7                    Magento, PHP, MySQL   \n",
       "8         React Native, Node.js, MongoDB   \n",
       "9                  iOS, Swift, Core Data   \n",
       "10       Android, Java, Room Persistence   \n",
       "11             Kotlin, Android, Firebase   \n",
       "12       Android TV, Kotlin, Android NDK   \n",
       "13                     iOS, Swift, ARKit   \n",
       "14        Cross-platform, Xamarin, Azure   \n",
       "15          Backend, Kotlin, Spring Boot   \n",
       "16         Frontend, TypeScript, Angular   \n",
       "17    Full-stack, JavaScript, Express.js   \n",
       "18  Machine Learning, Python, TensorFlow   \n",
       "19               DevOps, Jenkins, Docker   \n",
       "\n",
       "                                                Links  \n",
       "0                 https://example.com/react-portfolio  \n",
       "1               https://example.com/angular-portfolio  \n",
       "2                   https://example.com/vue-portfolio  \n",
       "3                https://example.com/python-portfolio  \n",
       "4                  https://example.com/java-portfolio  \n",
       "5               https://example.com/flutter-portfolio  \n",
       "6             https://example.com/wordpress-portfolio  \n",
       "7               https://example.com/magento-portfolio  \n",
       "8          https://example.com/react-native-portfolio  \n",
       "9                   https://example.com/ios-portfolio  \n",
       "10              https://example.com/android-portfolio  \n",
       "11       https://example.com/kotlin-android-portfolio  \n",
       "12           https://example.com/android-tv-portfolio  \n",
       "13               https://example.com/ios-ar-portfolio  \n",
       "14              https://example.com/xamarin-portfolio  \n",
       "15       https://example.com/kotlin-backend-portfolio  \n",
       "16  https://example.com/typescript-frontend-portfolio  \n",
       "17        https://example.com/full-stack-js-portfolio  \n",
       "18            https://example.com/ml-python-portfolio  \n",
       "19               https://example.com/devops-portfolio  "
      ]
     },
     "execution_count": 13,
     "metadata": {},
     "output_type": "execute_result"
    }
   ],
   "source": [
    "df"
   ]
  },
  {
   "cell_type": "code",
   "execution_count": 17,
   "id": "071d4ad1-d128-48e4-b8f9-bd761c6aa867",
   "metadata": {},
   "outputs": [],
   "source": [
    "import chromadb\n",
    "import uuid\n",
    "client=chromadb.PersistentClient('vectorstore') #when we use client is creates a db over memory but if we use persistent client is creates it over disk\n",
    "collection=client.get_or_create_collection(name=\"portfolio\")\n",
    "if not collection.count():\n",
    "    for _, row in df.iterrows():\n",
    "        collection.add(documents=row[\"Techstack\"],\n",
    "                      metadatas={\"links\":row[\"Links\"]},\n",
    "                      ids=[str(uuid.uuid4())])"
   ]
  },
  {
   "cell_type": "code",
   "execution_count": 23,
   "id": "61f971ec-ac90-4cf4-abd1-a52d7775f4e9",
   "metadata": {},
   "outputs": [
    {
     "data": {
      "text/plain": [
       "[[{'links': 'https://example.com/ml-python-portfolio'},\n",
       "  {'links': 'https://example.com/python-portfolio'}],\n",
       " [{'links': 'https://example.com/react-portfolio'},\n",
       "  {'links': 'https://example.com/react-native-portfolio'}]]"
      ]
     },
     "execution_count": 23,
     "metadata": {},
     "output_type": "execute_result"
    }
   ],
   "source": [
    "links=collection.query(query_texts=[\"Experience in python\",\"Experience in  React\"],n_results=2).get('metadatas',[])\n",
    "links"
   ]
  },
  {
   "cell_type": "code",
   "execution_count": 27,
   "id": "ee2be07b-c6f7-494d-9b81-9bb14a8b3617",
   "metadata": {},
   "outputs": [
    {
     "data": {
      "text/plain": [
       "[[{'links': 'https://example.com/java-portfolio'},\n",
       "  {'links': 'https://example.com/kotlin-backend-portfolio'}],\n",
       " [{'links': 'https://example.com/ios-ar-portfolio'},\n",
       "  {'links': 'https://example.com/devops-portfolio'}],\n",
       " [{'links': 'https://example.com/ios-ar-portfolio'},\n",
       "  {'links': 'https://example.com/ml-python-portfolio'}],\n",
       " [{'links': 'https://example.com/python-portfolio'},\n",
       "  {'links': 'https://example.com/full-stack-js-portfolio'}]]"
      ]
     },
     "execution_count": 27,
     "metadata": {},
     "output_type": "execute_result"
    }
   ],
   "source": [
    "link=collection.query(query_texts=job['skill'],n_results=2).get('metadatas',[])\n",
    "link"
   ]
  },
  {
   "cell_type": "code",
   "execution_count": 29,
   "id": "5beafd20-9a83-44ef-a212-bba08a08dcb2",
   "metadata": {},
   "outputs": [
    {
     "data": {
      "text/plain": [
       "['Passion for engaging with consumers and encouraging them to become Nike Members',\n",
       " 'Digital literacy—desire to learn and adapt to technology needs with agility',\n",
       " 'Ability to communicate in English',\n",
       " 'Physical requirements include the ability to twist, bend, squat, reach, climb a ladder, and stand for extended periods of time with or without reasonable accommodation']"
      ]
     },
     "execution_count": 29,
     "metadata": {},
     "output_type": "execute_result"
    }
   ],
   "source": [
    "job=json_res\n",
    "job['skill']"
   ]
  },
  {
   "cell_type": "code",
   "execution_count": 33,
   "id": "ca6a54d2-aa72-42a5-b10c-856a03cf7612",
   "metadata": {},
   "outputs": [
    {
     "data": {
      "text/plain": [
       "{'role': 'Retail Supervisor',\n",
       " 'experience': '1 year of retail and/or consumer service experience',\n",
       " 'skill': ['Passion for engaging with consumers and encouraging them to become Nike Members',\n",
       "  'Digital literacy—desire to learn and adapt to technology needs with agility',\n",
       "  'Ability to communicate in English',\n",
       "  'Physical requirements include the ability to twist, bend, squat, reach, climb a ladder, and stand for extended periods of time with or without reasonable accommodation'],\n",
       " 'description': \"The mission of a Nike store Specialist is clear: deliver a premium in-store experience to our consumers. Along with balancing an associate's responsibilities, you're able to expertly handle complex situations with autonomy and poise. In addition to shared leadership responsibilities, you will focus on one of five Areas of Expertise where you'll gain critical experiences that help propel you along your development journey.\"}"
      ]
     },
     "execution_count": 33,
     "metadata": {},
     "output_type": "execute_result"
    }
   ],
   "source": [
    "job"
   ]
  },
  {
   "cell_type": "code",
   "execution_count": 34,
   "id": "e30483d2-8fc2-4ddc-a0b4-14e184258235",
   "metadata": {},
   "outputs": [
    {
     "data": {
      "text/plain": [
       "[[{'links': 'https://example.com/ml-python-portfolio'},\n",
       "  {'links': 'https://example.com/python-portfolio'}],\n",
       " [{'links': 'https://example.com/react-portfolio'},\n",
       "  {'links': 'https://example.com/react-native-portfolio'}]]"
      ]
     },
     "execution_count": 34,
     "metadata": {},
     "output_type": "execute_result"
    }
   ],
   "source": [
    "links"
   ]
  },
  {
   "cell_type": "code",
   "execution_count": 32,
   "id": "cf81b0f8-82da-47d3-9982-891a8715bc95",
   "metadata": {},
   "outputs": [
    {
     "name": "stdout",
     "output_type": "stream",
     "text": [
      "Subject: Enhance Your Retail Experience with AI-Powered Solutions from XYZ\n",
      "\n",
      "Dear Hiring Manager,\n",
      "\n",
      "I came across the Retail Supervisor role at Nike and was impressed by the emphasis on delivering a premium in-store experience to consumers. As a Business Development Executive at XYZ, I'd like to introduce you to our AI and software consulting services that can help elevate your retail operations and enhance customer engagement.\n",
      "\n",
      "Our team at XYZ has extensive experience in developing tailored solutions that cater to the unique needs of retail businesses. We've empowered numerous enterprises with automated tools that foster scalability, process optimization, cost reduction, and heightened overall efficiency. Our expertise in machine learning and AI can help you streamline store operations, improve inventory management, and provide personalized customer experiences.\n",
      "\n",
      "I'd like to highlight a few examples from our portfolio that demonstrate our capabilities in retail technology:\n",
      "\n",
      "* Our machine learning-powered inventory management system, showcased in our Python portfolio (https://example.com/python-portfolio), can help you optimize stock levels, reduce waste, and improve supply chain efficiency.\n",
      "* Our React-based retail analytics platform (https://example.com/react-portfolio) provides real-time insights into customer behavior, sales trends, and store performance, enabling data-driven decision-making.\n",
      "\n",
      "By leveraging our AI and software consulting services, you can:\n",
      "\n",
      "* Enhance customer engagement through personalized experiences and loyalty programs\n",
      "* Improve operational efficiency through automated inventory management and supply chain optimization\n",
      "* Gain real-time insights into store performance and customer behavior\n",
      "\n",
      "I'd love to schedule a call to discuss how our solutions can address your specific needs and help you achieve your business goals. Please let me know if you're interested in learning more.\n",
      "\n",
      "Best regards,\n",
      "\n",
      "Snehashis\n",
      "Business Development Executive\n",
      "XYZ\n",
      "[snehashis@xyz.com](mailto:snehashis@xyz.com)\n",
      "+1234567890\n"
     ]
    }
   ],
   "source": [
    "prompt_email = PromptTemplate.from_template( \n",
    "    \"\"\" \n",
    "    ### JOB DESCRIPTION: \n",
    "    {job_description} \n",
    "    ### INSTRUCTION: You are Snehashis, a business development executive at XYZ. \n",
    "    XYZ is an AI & Software Consulting company dedicated to facilitating the seamless integration of business processes through automated tools. \n",
    "    Over our experience, we have empowered numerous enterprises with tailored solutions, fostering scalability, process optimization, cost reduction, and heightened overall efficiency. \n",
    "    Your job is to write a cold email to the client regarding the job mentioned above describing the capability of XYZ in fulfilling their needs. \n",
    "    Also add the most relevant ones from the following links to showcase XYZ's portfolio: {link_list}\n",
    "    Remember you are Snehashis, BDE at XYZ. \n",
    "    Do not provide a preamble. \n",
    "    ### EMAIL (NO PREAMBLE SPECIFICALLY): \n",
    "    \"\"\" ) \n",
    "chain_email = prompt_email | llm \n",
    "res = chain_email.invoke({\"job_description\": str(job), \"link_list\": links}) \n",
    "print(res.content)"
   ]
  },
  {
   "cell_type": "code",
   "execution_count": null,
   "id": "6ffb00e4-ff72-4751-96b3-264f97f82f16",
   "metadata": {},
   "outputs": [],
   "source": []
  }
 ],
 "metadata": {
  "kernelspec": {
   "display_name": "Python 3 (ipykernel)",
   "language": "python",
   "name": "python3"
  },
  "language_info": {
   "codemirror_mode": {
    "name": "ipython",
    "version": 3
   },
   "file_extension": ".py",
   "mimetype": "text/x-python",
   "name": "python",
   "nbconvert_exporter": "python",
   "pygments_lexer": "ipython3",
   "version": "3.12.7"
  }
 },
 "nbformat": 4,
 "nbformat_minor": 5
}
